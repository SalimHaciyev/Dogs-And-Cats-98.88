{
 "cells": [
  {
   "cell_type": "markdown",
   "metadata": {},
   "source": [
    "# Required libraries"
   ]
  },
  {
   "cell_type": "code",
   "execution_count": 2,
   "metadata": {},
   "outputs": [],
   "source": [
    "import matplotlib.pyplot as plt\n",
    "\n",
    "from keras.models import Model\n",
    "from keras.layers import Flatten, Dense, Dropout\n",
    "\n",
    "\n",
    "from keras.callbacks import ModelCheckpoint\n",
    "from tensorflow.keras.optimizers import Adam\n",
    "from tensorflow.keras.models import save_model\n",
    "from tensorflow.keras.models import load_model\n",
    "from tensorflow.keras.applications.mobilenet_v2 import MobileNetV2\n",
    "from tensorflow.keras.preprocessing.image import ImageDataGenerator\n",
    "from tensorflow.keras.applications.mobilenet_v2 import preprocess_input"
   ]
  },
  {
   "cell_type": "markdown",
   "metadata": {},
   "source": [
    "# Preparing data"
   ]
  },
  {
   "cell_type": "code",
   "execution_count": 3,
   "metadata": {},
   "outputs": [
    {
     "name": "stdout",
     "output_type": "stream",
     "text": [
      "Found 20000 images belonging to 2 classes.\n",
      "Found 5000 images belonging to 2 classes.\n"
     ]
    }
   ],
   "source": [
    "h, w= 250, 250\n",
    "training_datagen = ImageDataGenerator(\n",
    "      preprocessing_function=preprocess_input\n",
    ")\n",
    "\n",
    "train_generator = training_datagen.flow_from_directory(\n",
    "    r'C:\\Users\\ASUS TUF\\Desktop\\dogs-vs-cats\\train',\n",
    "    target_size=(h,w),\n",
    "    class_mode='categorical',\n",
    "    batch_size=64\n",
    ")\n",
    "\n",
    "validation_datagen = ImageDataGenerator(preprocessing_function=preprocess_input)\n",
    "\n",
    "validation_generator = validation_datagen.flow_from_directory(\n",
    "    r'C:\\Users\\ASUS TUF\\Desktop\\dogs-vs-cats\\test',\n",
    "    target_size=(h,w),\n",
    "    class_mode='categorical',\n",
    "    batch_size=64\n",
    ")"
   ]
  },
  {
   "cell_type": "markdown",
   "metadata": {},
   "source": [
    "# Creating model"
   ]
  },
  {
   "cell_type": "code",
   "execution_count": null,
   "metadata": {},
   "outputs": [
    {
     "name": "stdout",
     "output_type": "stream",
     "text": [
      "WARNING:tensorflow:`input_shape` is undefined or non-square, or `rows` is not in [96, 128, 160, 192, 224]. Weights for input shape (224, 224) will be loaded as the default.\n"
     ]
    }
   ],
   "source": [
    "input= MobileNetV2(include_top= False, input_shape= (h, w, 3))\n",
    "for layer in input.layers:\n",
    "    layer.trainable= False\n",
    "\n",
    "output= Flatten()(input.output)\n",
    "output= Dense(1024, activation='relu')(output)\n",
    "output= Dropout(0.5)(output)\n",
    "output= Dense(512, activation='relu')(output)\n",
    "output= Dropout(0.5)(output)\n",
    "output= Dense(128, activation='relu')(output)\n",
    "output= Dropout(0.25)(output)\n",
    "output= Dense(2, activation='softmax')(output)\n",
    "\n",
    "model= Model(inputs= input.inputs, outputs= output)"
   ]
  },
  {
   "cell_type": "code",
   "execution_count": null,
   "metadata": {},
   "outputs": [
    {
     "name": "stderr",
     "output_type": "stream",
     "text": [
      "C:\\shagiyev07\\lib\\site-packages\\keras\\optimizer_v2\\adam.py:105: UserWarning: The `lr` argument is deprecated, use `learning_rate` instead.\n",
      "  super(Adam, self).__init__(name, **kwargs)\n"
     ]
    }
   ],
   "source": [
    "opt = Adam(lr=0.001)\n",
    "model.compile(optimizer=opt, loss='binary_crossentropy', metrics=['accuracy'])"
   ]
  },
  {
   "cell_type": "code",
   "execution_count": null,
   "metadata": {},
   "outputs": [
    {
     "name": "stdout",
     "output_type": "stream",
     "text": [
      "Epoch 1/10\n",
      "313/313 [==============================] - ETA: 0s - loss: 0.4896 - accuracy: 0.9699"
     ]
    },
    {
     "name": "stderr",
     "output_type": "stream",
     "text": [
      "C:\\shagiyev07\\lib\\site-packages\\keras\\engine\\functional.py:1410: CustomMaskWarning: Custom mask layers require a config and must override get_config. When loading, the custom mask layer must be passed to the custom_objects argument.\n",
      "  layer_config = serialize_layer_fn(layer)\n"
     ]
    },
    {
     "name": "stdout",
     "output_type": "stream",
     "text": [
      "313/313 [==============================] - 73s 218ms/step - loss: 0.4896 - accuracy: 0.9699 - val_loss: 0.0690 - val_accuracy: 0.9782\n",
      "Epoch 2/10\n",
      "313/313 [==============================] - 80s 255ms/step - loss: 0.0625 - accuracy: 0.9845 - val_loss: 0.0430 - val_accuracy: 0.9868\n",
      "Epoch 3/10\n",
      "313/313 [==============================] - 102s 327ms/step - loss: 0.0422 - accuracy: 0.9882 - val_loss: 0.0406 - val_accuracy: 0.9858\n",
      "Epoch 4/10\n",
      "313/313 [==============================] - 107s 341ms/step - loss: 0.0247 - accuracy: 0.9925 - val_loss: 0.0431 - val_accuracy: 0.9874\n",
      "Epoch 5/10\n",
      "313/313 [==============================] - 80s 256ms/step - loss: 0.0243 - accuracy: 0.9930 - val_loss: 0.0450 - val_accuracy: 0.9870\n",
      "Epoch 6/10\n",
      "313/313 [==============================] - 70s 222ms/step - loss: 0.0169 - accuracy: 0.9952 - val_loss: 0.0424 - val_accuracy: 0.9880\n",
      "Epoch 7/10\n",
      "313/313 [==============================] - 81s 258ms/step - loss: 0.0100 - accuracy: 0.9969 - val_loss: 0.0570 - val_accuracy: 0.9866\n",
      "Epoch 8/10\n",
      "313/313 [==============================] - 72s 229ms/step - loss: 0.0116 - accuracy: 0.9966 - val_loss: 0.0658 - val_accuracy: 0.9888\n",
      "Epoch 9/10\n",
      "313/313 [==============================] - 80s 255ms/step - loss: 0.0145 - accuracy: 0.9953 - val_loss: 0.1205 - val_accuracy: 0.9876\n",
      "Epoch 10/10\n",
      "313/313 [==============================] - 83s 264ms/step - loss: 0.0181 - accuracy: 0.9947 - val_loss: 0.0944 - val_accuracy: 0.9878\n"
     ]
    }
   ],
   "source": [
    "metric = 'val_accuracy'\n",
    "checkpoint = ModelCheckpoint(r\"C:\\Users\\ASUS TUF\\Desktop\\dog and cat cnn - Copy\\\\\" + \"bestmodel.h5\", monitor=metric, save_best_only=True, save_weights_only=False, mode='auto')\n",
    "history= model.fit(train_generator, validation_data= validation_generator, epochs=10, callbacks= [checkpoint])"
   ]
  },
  {
   "cell_type": "code",
   "execution_count": null,
   "metadata": {},
   "outputs": [],
   "source": [
    "save_model(model, 'new2.h5', overwrite= True)"
   ]
  },
  {
   "cell_type": "code",
   "execution_count": null,
   "metadata": {},
   "outputs": [
    {
     "data": {
      "text/plain": [
       "[<matplotlib.lines.Line2D at 0x1f3a9e0a400>]"
      ]
     },
     "execution_count": 7,
     "metadata": {},
     "output_type": "execute_result"
    },
    {
     "data": {
      "image/png": "[encoded data removed]",
      "text/plain": [
       "<Figure size 576x576 with 2 Axes>"
      ]
     },
     "metadata": {
      "needs_background": "light"
     },
     "output_type": "display_data"
    }
   ],
   "source": [
    "plt.figure(figsize=(8, 8))\n",
    "plt.subplot(2, 1, 1)\n",
    "plt.title('Cross Entropy Loss')\n",
    "plt.plot(history.history['loss'], color='blue', label='train')\n",
    "plt.plot(history.history['val_loss'], color='orange', label='test')\n",
    "plt.subplot(2, 1, 2)\n",
    "plt.title('Classification Accuracy')\n",
    "plt.plot(history.history['accuracy'], color='blue', label='train')\n",
    "plt.plot(history.history['val_accuracy'], color='orange', label='test')"
   ]
  },
  {
   "cell_type": "code",
   "execution_count": 4,
   "metadata": {},
   "outputs": [
    {
     "name": "stdout",
     "output_type": "stream",
     "text": [
      "79/79 [==============================] - 23s 227ms/step - loss: 0.0658 - accuracy: 0.9888\n"
     ]
    },
    {
     "data": {
      "text/plain": [
       "[0.06583520025014877, 0.9887999892234802]"
      ]
     },
     "execution_count": 4,
     "metadata": {},
     "output_type": "execute_result"
    }
   ],
   "source": [
    "model= load_model('bestmodel.h5')\n",
    "model.evaluate(validation_generator)"
   ]
  }
 ],
 "metadata": {
  "interpreter": {
   "hash": "142d9d1d57fdca0fa4bcb2d2947eb3fe9c1a92d51812cdbecee2cd511d521318"
  },
  "kernelspec": {
   "display_name": "Python 3.8.8 ('base')",
   "language": "python",
   "name": "python3"
  },
  "language_info": {
   "codemirror_mode": {
    "name": "ipython",
    "version": 3
   },
   "file_extension": ".py",
   "mimetype": "text/x-python",
   "name": "python",
   "nbconvert_exporter": "python",
   "pygments_lexer": "ipython3",
   "version": "3.8.8"
  },
  "orig_nbformat": 4
 },
 "nbformat": 4,
 "nbformat_minor": 2
}
